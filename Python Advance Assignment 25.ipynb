{
 "cells": [
  {
   "cell_type": "markdown",
   "id": "377df6bd",
   "metadata": {},
   "source": [
    "Q1. What is the distinction between a numpy array and a pandas data frame? Is there a way to convert between the two if there is?"
   ]
  },
  {
   "cell_type": "code",
   "execution_count": 1,
   "id": "9e832cee",
   "metadata": {},
   "outputs": [
    {
     "data": {
      "text/plain": [
       "array([[0, 1, 2, 3, 4],\n",
       "       [5, 6, 7, 8, 9]])"
      ]
     },
     "execution_count": 1,
     "metadata": {},
     "output_type": "execute_result"
    }
   ],
   "source": [
    "# Ans : Numpy array: This is in the form of matrix structure which have rows and columns. It generally performs python \n",
    "#       mathematical operation which is not genrally easy manually to perfomr in coding case. It may be of any \n",
    "#       dimensions like 1-d, 2-d, 3-d, 4-d, etc depend upon the use to requirement. Unlike dataframe, numpy array are \n",
    "#       not in a tabular form which ahve records and have fields instead it is in the form of matrices. It can have\n",
    "#       single row and single column as well but dataframe poses more than one column\n",
    "#       DataFrame: This is a kind of tabular structure format which are having more than one column. Unlike numpy \n",
    "#       array which can have more single as well as many number of columns, but dataframe have more than one column.\n",
    "#       Dataframe can have any number of dimensons but it should be more than one. We can use numpy array operation \n",
    "#       in dataframe and can also convert the numpy array into dataframe.\n",
    "#       We can convert between the two in following manner:\n",
    "\n",
    "import pandas as pd\n",
    "import numpy as np\n",
    "array=np.arange(10).reshape(2,5)\n",
    "array"
   ]
  },
  {
   "cell_type": "code",
   "execution_count": 2,
   "id": "14c17090",
   "metadata": {},
   "outputs": [
    {
     "data": {
      "text/html": [
       "<div>\n",
       "<style scoped>\n",
       "    .dataframe tbody tr th:only-of-type {\n",
       "        vertical-align: middle;\n",
       "    }\n",
       "\n",
       "    .dataframe tbody tr th {\n",
       "        vertical-align: top;\n",
       "    }\n",
       "\n",
       "    .dataframe thead th {\n",
       "        text-align: right;\n",
       "    }\n",
       "</style>\n",
       "<table border=\"1\" class=\"dataframe\">\n",
       "  <thead>\n",
       "    <tr style=\"text-align: right;\">\n",
       "      <th></th>\n",
       "      <th>0</th>\n",
       "      <th>1</th>\n",
       "      <th>2</th>\n",
       "      <th>3</th>\n",
       "      <th>4</th>\n",
       "    </tr>\n",
       "  </thead>\n",
       "  <tbody>\n",
       "    <tr>\n",
       "      <th>0</th>\n",
       "      <td>0</td>\n",
       "      <td>1</td>\n",
       "      <td>2</td>\n",
       "      <td>3</td>\n",
       "      <td>4</td>\n",
       "    </tr>\n",
       "    <tr>\n",
       "      <th>1</th>\n",
       "      <td>5</td>\n",
       "      <td>6</td>\n",
       "      <td>7</td>\n",
       "      <td>8</td>\n",
       "      <td>9</td>\n",
       "    </tr>\n",
       "  </tbody>\n",
       "</table>\n",
       "</div>"
      ],
      "text/plain": [
       "   0  1  2  3  4\n",
       "0  0  1  2  3  4\n",
       "1  5  6  7  8  9"
      ]
     },
     "execution_count": 2,
     "metadata": {},
     "output_type": "execute_result"
    }
   ],
   "source": [
    "df=pd.DataFrame(array)\n",
    "df"
   ]
  },
  {
   "cell_type": "code",
   "execution_count": 4,
   "id": "bad13d91",
   "metadata": {},
   "outputs": [
    {
     "data": {
      "text/plain": [
       "array([[0, 1, 2, 3, 4],\n",
       "       [5, 6, 7, 8, 9]])"
      ]
     },
     "execution_count": 4,
     "metadata": {},
     "output_type": "execute_result"
    }
   ],
   "source": [
    "df.to_numpy()"
   ]
  },
  {
   "cell_type": "markdown",
   "id": "0c78e242",
   "metadata": {},
   "source": [
    "Q2. What can go wrong when an user enters in a stock-ticker symbol, and how do you handle it?"
   ]
  },
  {
   "cell_type": "markdown",
   "id": "2d5473d1",
   "metadata": {},
   "source": [
    "The key needs to be the stock ticker symbol with the value. Program must ask the user to enter a ticker symbol and print the ticker symbol and stock price. \n",
    "Sorting your data is very important. If you do not sort, you might have old tickers in your main data even after adjusting for it; why is that? Because some tickers have changed multiple times, take the below for an example; if it's not sorted, the end ticker in my dataset will be ISENSEX even when it should be ICICSENSX which is the latest one.\n",
    "Sometimes, the symbol change file also contains future symbol changes, and we do not want to adjust for those symbols yet, so it's important to filter your data till the date you are running the code.\n",
    "We have to replace all old symbols with new ones with our main stock prices data; it's straightforward to do with df.replace()"
   ]
  },
  {
   "cell_type": "markdown",
   "id": "f2a3e466",
   "metadata": {},
   "source": [
    "Q3. Identify some of the plotting techniques that are used to produce a stock-market chart."
   ]
  },
  {
   "cell_type": "code",
   "execution_count": null,
   "id": "df7628d0",
   "metadata": {},
   "outputs": [],
   "source": [
    "#Ans : LINE CHART.POINT AND FIGURE CHART, CANDLESTICK CHART, BAR CHART."
   ]
  },
  {
   "cell_type": "markdown",
   "id": "d1c38ff6",
   "metadata": {},
   "source": [
    "Q4. Why is it essential to print a legend on a stock market chart?"
   ]
  },
  {
   "cell_type": "code",
   "execution_count": null,
   "id": "729b2792",
   "metadata": {},
   "outputs": [],
   "source": [
    "# Ans : Legends adds a beauty to visualize the trend of data w.r.t. different features. It creates the different \n",
    "# trend in different colors indicating that which is belong to which trend is belong to which feature."
   ]
  },
  {
   "cell_type": "markdown",
   "id": "88e183ee",
   "metadata": {},
   "source": [
    "Q5. What is the best way to limit the length of a pandas data frame to less than a year?"
   ]
  },
  {
   "cell_type": "code",
   "execution_count": null,
   "id": "002f8c96",
   "metadata": {},
   "outputs": [],
   "source": [
    "# Ans : We can use start and end parameters for that. In start we write the date from where we are starting and at \n",
    "#       the end we write the end date. SO within this span we can restric the duration. Also we can use the parameters \n",
    "#       like periods for how much times we need the duration and we can also use the frequency parameter."
   ]
  },
  {
   "cell_type": "markdown",
   "id": "a98505e7",
   "metadata": {},
   "source": [
    "Q6. What is the definition of a 180-day moving average?"
   ]
  },
  {
   "cell_type": "code",
   "execution_count": null,
   "id": "78563a44",
   "metadata": {},
   "outputs": [],
   "source": [
    "# Ans : Moving Averages help to filter out market noise and smooth out fluctuations in price. In statistics, a moving\n",
    "#       average is a calculation used to analyze data points by creating a series of averages of different subsets of \n",
    "#       the full data set. 180-day moving average means A simple moving average (SMA) is a arithmetic mean of a given \n",
    "#       set of prices over the 180 days in the past"
   ]
  },
  {
   "cell_type": "markdown",
   "id": "182cff26",
   "metadata": {},
   "source": [
    "Q7. Did the chapter's final example use \"indirect\" importing? If so, how exactly do you do it? in python"
   ]
  },
  {
   "cell_type": "markdown",
   "id": "2a710633",
   "metadata": {},
   "source": [
    "numpy.argsort() function is used to perform an indirect sort along the given axis using the algorithm specified by the kind keyword. It returns an array of indices of the same shape as arr that would sort the array. It means indices of value arranged in ascending order\n",
    "\n",
    "Syntax : numpy.argsort(arr, axis=-1, kind=’quicksort’, order=None) \n",
    "\n",
    "Parameters:\n",
    "\n",
    "arr : [array_like] Input array. \n",
    "axis : [int or None] Axis along which to sort. If None, the array is flattened before sorting. The default is -1, which sorts along the last axis. \n",
    "kind : [‘quicksort’, ‘mergesort’, ‘heapsort’]Selection algorithm. Default is ‘quicksort’. \n",
    "order : [str or list of str] When arr is an array with fields defined, this argument specifies which fields to compare first, second, etc. \n",
    "Return: [index_array, ndarray] Array of indices that sort arr along the specified axis.If arr is one-dimensional then arr[index_array] returns a sorted arr."
   ]
  }
 ],
 "metadata": {
  "kernelspec": {
   "display_name": "Python 3 (ipykernel)",
   "language": "python",
   "name": "python3"
  },
  "language_info": {
   "codemirror_mode": {
    "name": "ipython",
    "version": 3
   },
   "file_extension": ".py",
   "mimetype": "text/x-python",
   "name": "python",
   "nbconvert_exporter": "python",
   "pygments_lexer": "ipython3",
   "version": "3.9.7"
  }
 },
 "nbformat": 4,
 "nbformat_minor": 5
}
